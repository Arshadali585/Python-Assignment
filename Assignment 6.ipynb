{
 "cells": [
  {
   "cell_type": "code",
   "execution_count": 2,
   "metadata": {},
   "outputs": [],
   "source": [
    "#Q-1 Define Object Oriented Programming Language?\n",
    "#Object-oriented programming (OOP) is a programming language model in which programs are organized around data, or objects, \n",
    "#rather than functions and logic. An object can be defined as a data field that has unique attributes and behavior"
   ]
  },
  {
   "cell_type": "code",
   "execution_count": 4,
   "metadata": {},
   "outputs": [],
   "source": [
    "# Q-2 List down the Benefits of OOP?\n",
    "# The programmes written with OOP are really easy to understand.\n",
    "\n",
    "# Since everything is treated as objects, so we can model a real-world concept using OOP.\n",
    "\n",
    "# OOP approach offers the reusability of classes. We can reuse the classes that are already created without writing them again and again.\n",
    "\n",
    "# Since the parallel development of classes is possible in OOP concept, It results in the quick development of the complete programmes.\n",
    "\n",
    "# Programmes written in OOP technique are marginally easier to test, manage as well as maintain.\n",
    "\n",
    "# It is a secured development technique since data is hidden and can’t be accessed by external functions."
   ]
  },
  {
   "cell_type": "code",
   "execution_count": null,
   "metadata": {},
   "outputs": [],
   "source": [
    "# Q-3 Differentiate between function and method?\n",
    "#Method and a function are the same, with different terms. A method is a procedure or function in object-oriented programming."
   ]
  },
  {
   "cell_type": "code",
   "execution_count": null,
   "metadata": {},
   "outputs": [],
   "source": [
    "# Q-4 Define the following terms:\n",
    "# 1. Class\n",
    "# Class in object-oriented programming serves as a blueprint for the object. A class can be considered as a map for the house. You can get an idea of what the house looks like by simply seeing the map. However, a class itself is nothing. \n",
    "#For instance, a map is not a house, it only explains how the actual house will look. \n",
    "# 2. Object\n",
    "# The objects and methods of a class, you need to create an object out of that class.\n",
    "# we need to create an object of a class before we can use its methods and attributes.\n",
    "# 3. Attribute\n",
    "# can create objects of a class and can use those objects to access the attributes of a class.\n"
   ]
  },
  {
   "cell_type": "code",
   "execution_count": 20,
   "metadata": {},
   "outputs": [
    {
     "name": "stdout",
     "output_type": "stream",
     "text": [
      "black\n",
      "audi\n",
      "2019\n",
      "USA\n",
      "USA default country\n",
      "Pakistan modify country\n"
     ]
    }
   ],
   "source": [
    "class car():\n",
    "    def __init__(self,model,colour,name):\n",
    "        self.name = name\n",
    "        self.model = model\n",
    "        self.colour = colour\n",
    "        self.country = 'USA'\n",
    "        \n",
    "    def updatecountry(self,newname):\n",
    "        self.countryname = newname\n",
    "new = car('audi',2019,'black')\n",
    "print(new.name)\n",
    "print(new.model)\n",
    "print(new.colour)\n",
    "print(new.country)\n",
    "print(new.country,'default country')\n",
    "new.updatecountry('Pakistan')\n",
    "print(new.countryname,'modify country')"
   ]
  },
  {
   "cell_type": "code",
   "execution_count": null,
   "metadata": {},
   "outputs": [],
   "source": []
  }
 ],
 "metadata": {
  "kernelspec": {
   "display_name": "Python 3",
   "language": "python",
   "name": "python3"
  },
  "language_info": {
   "codemirror_mode": {
    "name": "ipython",
    "version": 3
   },
   "file_extension": ".py",
   "mimetype": "text/x-python",
   "name": "python",
   "nbconvert_exporter": "python",
   "pygments_lexer": "ipython3",
   "version": "3.7.4"
  }
 },
 "nbformat": 4,
 "nbformat_minor": 2
}
