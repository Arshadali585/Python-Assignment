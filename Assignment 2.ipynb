{
 "cells": [
  {
   "cell_type": "code",
   "execution_count": 1,
   "metadata": {},
   "outputs": [
    {
     "name": "stdout",
     "output_type": "stream",
     "text": [
      "enter your percentage % 60\n",
      "B\n"
     ]
    }
   ],
   "source": [
    "#1.Write a program which takes 5 inputs from user for different subject’s marks, total it and generate mark sheet using grades ?\n",
    "per = int(input(\"enter your percentage % \"));\n",
    "if per >= 80 and per <= 100 :\n",
    "    print(\"A+\")\n",
    "elif per >= 70 and per < 80 :\n",
    "    print(\"A\")\n",
    "elif per >= 60 and per < 70 :\n",
    "    print(\"B\")\n",
    "elif per >= 50 and per < 60 :\n",
    "    print(\"C\")\n",
    "elif per >= 40 and per < 50 :\n",
    "    print(\"D\")\n",
    "elif per >= 30 and per < 40 :\n",
    "    print(\"Fail\")\n",
    "else :\n",
    "    print(\"you have given inapropriate %\")"
   ]
  },
  {
   "cell_type": "code",
   "execution_count": 53,
   "metadata": {},
   "outputs": [
    {
     "name": "stdout",
     "output_type": "stream",
     "text": [
      "Enter any number 99\n",
      "is odd\n"
     ]
    }
   ],
   "source": [
    "#2.Write a program which take input from user and identify that the given number is even or odd?\n",
    "number = int(input(\"Enter any number \"))\n",
    "if number % 2 == 0 :\n",
    "    print(\"is even\")\n",
    "else:\n",
    "    print(\"is odd\")"
   ]
  },
  {
   "cell_type": "code",
   "execution_count": 20,
   "metadata": {},
   "outputs": [
    {
     "name": "stdout",
     "output_type": "stream",
     "text": [
      "5\n"
     ]
    }
   ],
   "source": [
    "#3.Write a program which print the length of the list?\n",
    "a = (\"Ahmed\", \"Ali\", \"Shahurkh\", \"1\",\"2\")\n",
    "b = len(a)\n",
    "print(b)"
   ]
  },
  {
   "cell_type": "code",
   "execution_count": 56,
   "metadata": {},
   "outputs": [
    {
     "name": "stdout",
     "output_type": "stream",
     "text": [
      "7063\n"
     ]
    }
   ],
   "source": [
    "#4.Write a Python program to sum all the numeric items in a list?\n",
    "a = (1, 2, 10, 1000, 1050,5000)\n",
    "print(sum(a))"
   ]
  },
  {
   "cell_type": "code",
   "execution_count": 32,
   "metadata": {},
   "outputs": [
    {
     "name": "stdout",
     "output_type": "stream",
     "text": [
      "5000\n"
     ]
    }
   ],
   "source": [
    "#5.Write a Python program to get the largest number from a numeric list.\n",
    "a = (1, 2, 10, 1000, 1050,5000)\n",
    "b = max(a)\n",
    "print(b)"
   ]
  },
  {
   "cell_type": "code",
   "execution_count": 49,
   "metadata": {},
   "outputs": [
    {
     "name": "stdout",
     "output_type": "stream",
     "text": [
      "1\n",
      "1\n",
      "2\n",
      "3\n"
     ]
    }
   ],
   "source": [
    "#6.write a program that prints out all the elements of the list that are less than 5.\n",
    "a = (1, 1, 2, 3, 5, 8, 13, 21, 34, 55, 89)\n",
    "for b in a:\n",
    "     if b < 5:\n",
    "        print(b)"
   ]
  },
  {
   "cell_type": "code",
   "execution_count": null,
   "metadata": {},
   "outputs": [],
   "source": []
  }
 ],
 "metadata": {
  "kernelspec": {
   "display_name": "Python 3",
   "language": "python",
   "name": "python3"
  },
  "language_info": {
   "codemirror_mode": {
    "name": "ipython",
    "version": 3
   },
   "file_extension": ".py",
   "mimetype": "text/x-python",
   "name": "python",
   "nbconvert_exporter": "python",
   "pygments_lexer": "ipython3",
   "version": "3.7.4"
  }
 },
 "nbformat": 4,
 "nbformat_minor": 2
}
